{
 "cells": [
  {
   "cell_type": "markdown",
   "id": "ab0b7b48-57b9-4a2f-b146-aa4826b24423",
   "metadata": {},
   "source": [
    "# Calibration procedure (six-steps procedures)"
   ]
  },
  {
   "cell_type": "code",
   "execution_count": 1,
   "id": "9ab38e50-d054-45ec-bb32-d8b505c74390",
   "metadata": {},
   "outputs": [],
   "source": [
    "import pandas as pd\n",
    "import numpy as np\n",
    "import agentpy as ap"
   ]
  },
  {
   "cell_type": "markdown",
   "id": "07cb1518-d188-443d-9a69-0219dae6c8e6",
   "metadata": {},
   "source": [
    "## definition des secteurs institutionnelles, des stocks et des flux"
   ]
  },
  {
   "cell_type": "code",
   "execution_count": 2,
   "id": "ec2b236b-8d3b-4ad2-bd37-38e278808b71",
   "metadata": {},
   "outputs": [],
   "source": [
    "# definition des secteurs institutionnels\n",
    "account_keys = ['H', 'F', 'B', 'G', 'CB']\n",
    "account_names = ['Households', 'Firms', 'Banks', 'Government', 'Central Bank']\n",
    "\n",
    "# definitions des regions et des secteurs productifs\n",
    "regions = ['a', 'b']\n",
    "sectors = [1, 2, 3]\n",
    "\n",
    "# definitions des stocks\n",
    "stock_keys = ['M', 'A', 'D', 'B', 'L']\n",
    "stock_names = ['HP Money', 'Cash Advances', 'Deposits', 'Bonds', 'Loans']\n",
    "\n",
    "# definitions des flux\n",
    "flow_keys = ['C', 'W', 'Z', 'T', 'iota_A', 'iota_B', 'iota_L', 'iota_D', 'pi_d', 'pi', \n",
    "             'DeltaA', 'DeltaB', 'DeltaM', 'DeltaL', 'DeltaD']\n",
    "flow_names = ['Consumption', 'Wages', 'Doles', 'Taxes', \n",
    "              'Int. on advances', 'Int. on bonds', 'Int. on loans', 'Int on deposits',\n",
    "              'Entrepreneurial Profits', 'Central Bank Profits', \n",
    "              'Var. of advances', 'Var. of bonds', 'Var. of HP Money', 'var. of loans', 'Var. of deposits']\n"
   ]
  },
  {
   "cell_type": "markdown",
   "id": "5f781e7d-bb7d-49a6-91df-353d937fffe5",
   "metadata": {},
   "source": [
    "## fonctions d'initialisation des matrices"
   ]
  },
  {
   "cell_type": "code",
   "execution_count": 3,
   "id": "88e1f11d-222f-4488-b6ee-981a7eb7c0cc",
   "metadata": {},
   "outputs": [],
   "source": [
    "def create_matrices():\n",
    "    stock_matrix = pd.DataFrame(0.0, index=stock_keys, columns=account_keys)\n",
    "    flow_matrix = pd.DataFrame(0.0, index=flow_keys, columns=account_keys)\n",
    "    return stock_matrix, flow_matrix\n",
    "\n",
    "def print_matrices(matrices):\n",
    "    f = lambda v: round(v, 2)\n",
    "    print('stocks\\n', matrices[0].map(f))\n",
    "    print('\\nflows\\n', matrices[1].map(f))"
   ]
  },
  {
   "cell_type": "code",
   "execution_count": 4,
   "id": "a06d54e0-abe1-4be9-a410-b30a11a19c81",
   "metadata": {},
   "outputs": [
    {
     "name": "stdout",
     "output_type": "stream",
     "text": [
      "stocks\n",
      "      H    F    B    G   CB\n",
      "M  0.0  0.0  0.0  0.0  0.0\n",
      "A  0.0  0.0  0.0  0.0  0.0\n",
      "D  0.0  0.0  0.0  0.0  0.0\n",
      "B  0.0  0.0  0.0  0.0  0.0\n",
      "L  0.0  0.0  0.0  0.0  0.0\n",
      "\n",
      "flows\n",
      "           H    F    B    G   CB\n",
      "C       0.0  0.0  0.0  0.0  0.0\n",
      "W       0.0  0.0  0.0  0.0  0.0\n",
      "Z       0.0  0.0  0.0  0.0  0.0\n",
      "T       0.0  0.0  0.0  0.0  0.0\n",
      "iota_A  0.0  0.0  0.0  0.0  0.0\n",
      "iota_B  0.0  0.0  0.0  0.0  0.0\n",
      "iota_L  0.0  0.0  0.0  0.0  0.0\n",
      "iota_D  0.0  0.0  0.0  0.0  0.0\n",
      "pi_d    0.0  0.0  0.0  0.0  0.0\n",
      "pi      0.0  0.0  0.0  0.0  0.0\n",
      "DeltaA  0.0  0.0  0.0  0.0  0.0\n",
      "DeltaB  0.0  0.0  0.0  0.0  0.0\n",
      "DeltaM  0.0  0.0  0.0  0.0  0.0\n",
      "DeltaL  0.0  0.0  0.0  0.0  0.0\n",
      "DeltaD  0.0  0.0  0.0  0.0  0.0\n"
     ]
    }
   ],
   "source": [
    "print_matrices(create_matrices())"
   ]
  },
  {
   "cell_type": "code",
   "execution_count": 5,
   "id": "26ee0b81-d162-4d1c-95cf-a91a2858274e",
   "metadata": {},
   "outputs": [],
   "source": [
    "def fill_initial_params(params):\n",
    "    h_vars = ['M_H', 'D_H', 'C', 'W_H', 'Z_H', 'T_H', 'iota_DH', 'pi_dH', 'DeltaM_H', 'DeltaD_H']\n",
    "    f_vars = ['M_F', 'D_F', 'L_F', 'Q', 'W_F', 'T_F', 'iota_LF', 'iota_DF', 'pi_dF', 'DeltaM_F', 'DeltaL_F', 'DeltaD_F']\n",
    "    b_vars = ['M_B', 'A_B', 'D_B', 'B_B', 'L_B', 'T_B', \n",
    "              'iota_AB', 'iota_BB', 'iota_LB', 'iota_DB', 'pi_dB',\n",
    "              'DeltaA_B', 'DeltaB_B', 'DeltaM_B', 'DeltaL_B', 'DeltaD_B']\n",
    "    g_vars = ['M_G', 'B_G', 'W_G', 'Z_G', 'T_G', 'iota_BG', 'pi_G', 'DeltaB_G', 'DeltaM_G']\n",
    "    cb_vars = ['M_CB', 'A_CB', 'B_CB', 'iota_ACB', 'iota_BCB', 'pi_CB', 'DeltaA_CB', 'DeltaB_CB', 'DeltaM_CB']\n",
    "    \n",
    "    p = params.copy()\n",
    "    for z in regions:\n",
    "        for v in h_vars:\n",
    "            p[f'{v}{z}'] = 0\n",
    "    for s in sectors:\n",
    "        for v in f_vars:\n",
    "            p[f'{v}{s}'] = 0\n",
    "    for v in b_vars + g_vars + cb_vars:\n",
    "        p[v] = 0\n",
    "    return p\n",
    "            "
   ]
  },
  {
   "cell_type": "code",
   "execution_count": 6,
   "id": "6759916d-8d38-41fd-b6d1-bf12ae89a92f",
   "metadata": {},
   "outputs": [
    {
     "data": {
      "text/plain": [
       "{'M_Ha': 0,\n",
       " 'D_Ha': 0,\n",
       " 'Ca': 0,\n",
       " 'W_Ha': 0,\n",
       " 'Z_Ha': 0,\n",
       " 'T_Ha': 0,\n",
       " 'iota_DHa': 0,\n",
       " 'pi_dHa': 0,\n",
       " 'DeltaM_Ha': 0,\n",
       " 'DeltaD_Ha': 0,\n",
       " 'M_Hb': 0,\n",
       " 'D_Hb': 0,\n",
       " 'Cb': 0,\n",
       " 'W_Hb': 0,\n",
       " 'Z_Hb': 0,\n",
       " 'T_Hb': 0,\n",
       " 'iota_DHb': 0,\n",
       " 'pi_dHb': 0,\n",
       " 'DeltaM_Hb': 0,\n",
       " 'DeltaD_Hb': 0,\n",
       " 'M_F1': 0,\n",
       " 'D_F1': 0,\n",
       " 'L_F1': 0,\n",
       " 'Q1': 0,\n",
       " 'W_F1': 0,\n",
       " 'T_F1': 0,\n",
       " 'iota_LF1': 0,\n",
       " 'iota_DF1': 0,\n",
       " 'pi_dF1': 0,\n",
       " 'DeltaM_F1': 0,\n",
       " 'DeltaL_F1': 0,\n",
       " 'DeltaD_F1': 0,\n",
       " 'M_F2': 0,\n",
       " 'D_F2': 0,\n",
       " 'L_F2': 0,\n",
       " 'Q2': 0,\n",
       " 'W_F2': 0,\n",
       " 'T_F2': 0,\n",
       " 'iota_LF2': 0,\n",
       " 'iota_DF2': 0,\n",
       " 'pi_dF2': 0,\n",
       " 'DeltaM_F2': 0,\n",
       " 'DeltaL_F2': 0,\n",
       " 'DeltaD_F2': 0,\n",
       " 'M_F3': 0,\n",
       " 'D_F3': 0,\n",
       " 'L_F3': 0,\n",
       " 'Q3': 0,\n",
       " 'W_F3': 0,\n",
       " 'T_F3': 0,\n",
       " 'iota_LF3': 0,\n",
       " 'iota_DF3': 0,\n",
       " 'pi_dF3': 0,\n",
       " 'DeltaM_F3': 0,\n",
       " 'DeltaL_F3': 0,\n",
       " 'DeltaD_F3': 0,\n",
       " 'M_B': 0,\n",
       " 'A_B': 0,\n",
       " 'D_B': 0,\n",
       " 'B_B': 0,\n",
       " 'L_B': 0,\n",
       " 'T_B': 0,\n",
       " 'iota_AB': 0,\n",
       " 'iota_BB': 0,\n",
       " 'iota_LB': 0,\n",
       " 'iota_DB': 0,\n",
       " 'pi_dB': 0,\n",
       " 'DeltaA_B': 0,\n",
       " 'DeltaB_B': 0,\n",
       " 'DeltaM_B': 0,\n",
       " 'DeltaL_B': 0,\n",
       " 'DeltaD_B': 0,\n",
       " 'M_G': 0,\n",
       " 'B_G': 0,\n",
       " 'W_G': 0,\n",
       " 'Z_G': 0,\n",
       " 'T_G': 0,\n",
       " 'iota_BG': 0,\n",
       " 'pi_G': 0,\n",
       " 'DeltaB_G': 0,\n",
       " 'DeltaM_G': 0,\n",
       " 'M_CB': 0,\n",
       " 'A_CB': 0,\n",
       " 'B_CB': 0,\n",
       " 'iota_ACB': 0,\n",
       " 'iota_BCB': 0,\n",
       " 'pi_CB': 0,\n",
       " 'DeltaA_CB': 0,\n",
       " 'DeltaB_CB': 0,\n",
       " 'DeltaM_CB': 0}"
      ]
     },
     "execution_count": 6,
     "metadata": {},
     "output_type": "execute_result"
    }
   ],
   "source": [
    "params = {}\n",
    "fill_initial_params(params)"
   ]
  },
  {
   "cell_type": "markdown",
   "id": "563196eb-abc4-4a7e-aced-afd222dba5c0",
   "metadata": {},
   "source": [
    "## fonctions d'aggregation des matrices"
   ]
  },
  {
   "cell_type": "code",
   "execution_count": 7,
   "id": "75ef3cc0-636b-48c6-888d-8f9a65422786",
   "metadata": {},
   "outputs": [],
   "source": [
    "def agg_var(params, prefix):\n",
    "    return sum([v for k, v in params.items() if k.startswith(prefix)])"
   ]
  },
  {
   "cell_type": "code",
   "execution_count": 8,
   "id": "c1f3390e-38d7-4639-95ac-b0675b5aceb6",
   "metadata": {},
   "outputs": [
    {
     "data": {
      "text/plain": [
       "3"
      ]
     },
     "execution_count": 8,
     "metadata": {},
     "output_type": "execute_result"
    }
   ],
   "source": [
    "params = {'x_11':1, 'x_12':2, 'y_10':0}\n",
    "agg_var(params, 'x')"
   ]
  },
  {
   "cell_type": "code",
   "execution_count": 9,
   "id": "72c83300-e5f2-4a64-8325-121e3fa8fa00",
   "metadata": {},
   "outputs": [],
   "source": [
    "def calc_initial_matrices(params):\n",
    "    stock_matrix, flow_matrix = create_matrices()\n",
    "    stock_matrix.loc['M', 'H'] = agg_var(params, 'M_H')\n",
    "    stock_matrix.loc['D', 'H'] = agg_var(params, 'D_H')\n",
    "    stock_matrix.loc['M', 'F'] = agg_var(params, 'M_F')\n",
    "    stock_matrix.loc['D', 'F'] = agg_var(params, 'D_F')\n",
    "    stock_matrix.loc['L', 'F'] = - agg_var(params, 'L_F')\n",
    "    stock_matrix.loc['M', 'B'] = params['M_B']\n",
    "    stock_matrix.loc['A', 'B'] = - params['A_B']\n",
    "    stock_matrix.loc['D', 'B'] = - params['D_B']\n",
    "    stock_matrix.loc['B', 'B'] = params['B_B']\n",
    "    stock_matrix.loc['L', 'B'] = params['L_B']\n",
    "    stock_matrix.loc['M', 'G'] = params['M_G']\n",
    "    stock_matrix.loc['B', 'G'] = - params['B_G']\n",
    "    stock_matrix.loc['M', 'CB'] = - params['M_CB']\n",
    "    stock_matrix.loc['A', 'CB'] = params['A_CB']\n",
    "    stock_matrix.loc['B', 'CB'] = params['B_CB']\n",
    "    stock_matrix.loc['V', :] = - stock_matrix.sum()\n",
    "    stock_matrix.loc['sigma', :] = stock_matrix.sum()\n",
    "    stock_matrix['sigma'] = stock_matrix.sum(axis=1)\n",
    "    \n",
    "    flow_matrix.loc['C', 'H'] = - agg_var(params, 'C')\n",
    "    flow_matrix.loc['W', 'H'] = agg_var(params, 'W_H')\n",
    "    flow_matrix.loc['Z', 'H'] = agg_var(params, 'Z_H')\n",
    "    flow_matrix.loc['T', 'H'] = - agg_var(params, 'T_H')\n",
    "    flow_matrix.loc['iota_D', 'H'] = agg_var(params, 'iota_DH')\n",
    "    flow_matrix.loc['pi_d', 'H'] = agg_var(params, 'pi_dH')\n",
    "    flow_matrix.loc['DeltaM', 'H'] = - agg_var(params, 'DeltaM_H')\n",
    "    flow_matrix.loc['DeltaD', 'H'] = - agg_var(params, 'DeltaD_H')\n",
    "    flow_matrix.loc['C', 'F'] = agg_var(params, 'Q')\n",
    "    flow_matrix.loc['W', 'F'] = - agg_var(params, 'W_F')\n",
    "    flow_matrix.loc['T', 'F'] = - agg_var(params, 'T_F')\n",
    "    flow_matrix.loc['iota_L', 'F'] = - agg_var(params, 'iota_LF')\n",
    "    flow_matrix.loc['iota_D', 'F'] = agg_var(params, 'iota_DF')\n",
    "    flow_matrix.loc['pi_d', 'F'] = - agg_var(params, 'pi_dF')\n",
    "    flow_matrix.loc['DeltaM', 'F'] = - agg_var(params, 'DeltaM_F')\n",
    "    flow_matrix.loc['DeltaL', 'F'] = agg_var(params, 'DeltaL_F')\n",
    "    flow_matrix.loc['DeltaD', 'F'] = - agg_var(params, 'DeltaD_F')\n",
    "    flow_matrix.loc['T', 'B'] = - params['T_B']\n",
    "    flow_matrix.loc['iota_A', 'B'] = - params['iota_AB']\n",
    "    flow_matrix.loc['iota_B', 'B'] = params['iota_BB']\n",
    "    flow_matrix.loc['iota_L', 'B'] = params['iota_LB']\n",
    "    flow_matrix.loc['iota_D', 'B'] = - params['iota_DB']\n",
    "    flow_matrix.loc['pi_d', 'B'] = - params['pi_dB']\n",
    "    flow_matrix.loc['DeltaA', 'B'] = params['DeltaA_B']\n",
    "    flow_matrix.loc['DeltaB', 'B'] = - params['DeltaB_B']\n",
    "    flow_matrix.loc['DeltaM', 'B'] = - params['DeltaM_B']\n",
    "    flow_matrix.loc['DeltaL', 'B'] = - params['DeltaL_B']\n",
    "    flow_matrix.loc['DeltaD', 'B'] = params['DeltaD_B']\n",
    "    flow_matrix.loc['W', 'G'] = - params['W_G']\n",
    "    flow_matrix.loc['Z', 'G'] = - params['Z_G']\n",
    "    flow_matrix.loc['T', 'G'] = params['T_G']\n",
    "    flow_matrix.loc['iota_B', 'G'] = - params['iota_BG']\n",
    "    flow_matrix.loc['pi', 'G'] = params['pi_G']\n",
    "    flow_matrix.loc['DeltaB', 'G'] = params['DeltaB_G']\n",
    "    flow_matrix.loc['DeltaM', 'G'] = - params['DeltaM_G']\n",
    "    flow_matrix.loc['iota_A', 'CB'] = params['iota_ACB']\n",
    "    flow_matrix.loc['iota_B', 'CB'] = params['iota_BCB']\n",
    "    flow_matrix.loc['pi', 'CB'] = - params['pi_CB']\n",
    "    flow_matrix.loc['DeltaA', 'CB'] = - params['DeltaA_CB']\n",
    "    flow_matrix.loc['DeltaB', 'CB'] = - params['DeltaB_CB']\n",
    "    flow_matrix.loc['DeltaM', 'CB'] = params['DeltaM_CB']\n",
    "    flow_matrix.loc['sigma', :] = flow_matrix.sum()\n",
    "    flow_matrix['sigma'] = flow_matrix.sum(axis=1)\n",
    "    return stock_matrix, flow_matrix"
   ]
  },
  {
   "cell_type": "code",
   "execution_count": 10,
   "id": "87ef3c76-9e5b-4b1b-b85d-24b2173b6ec8",
   "metadata": {},
   "outputs": [
    {
     "name": "stdout",
     "output_type": "stream",
     "text": [
      "stocks\n",
      "           H     F     B    G   CB  sigma\n",
      "M      10.0  20.0  10.0  0.0  0.0   40.0\n",
      "A       0.0   0.0   0.0  0.0  0.0    0.0\n",
      "D       0.0   0.0   0.0  0.0  0.0    0.0\n",
      "B       0.0   0.0   0.0  0.0  0.0    0.0\n",
      "L       0.0 -50.0   0.0  0.0  0.0  -50.0\n",
      "V     -10.0  30.0 -10.0 -0.0 -0.0   10.0\n",
      "sigma   0.0   0.0   0.0  0.0  0.0    0.0\n",
      "\n",
      "flows\n",
      "           H    F    B    G   CB  sigma\n",
      "C       0.0  0.0  0.0  0.0  0.0    0.0\n",
      "W       0.0  0.0  0.0  0.0  0.0    0.0\n",
      "Z       0.0  0.0  0.0  0.0  0.0    0.0\n",
      "T       0.0  0.0  0.0  0.0  0.0    0.0\n",
      "iota_A  0.0  0.0  0.0  0.0  0.0    0.0\n",
      "iota_B  0.0  0.0  0.0  0.0  0.0    0.0\n",
      "iota_L  0.0  0.0  0.0  0.0  0.0    0.0\n",
      "iota_D  0.0  0.0  0.0  0.0  0.0    0.0\n",
      "pi_d    0.0  0.0  0.0  0.0  0.0    0.0\n",
      "pi      0.0  0.0  0.0  0.0  0.0    0.0\n",
      "DeltaA  0.0  0.0  0.0  0.0  0.0    0.0\n",
      "DeltaB  0.0  0.0  0.0  0.0  0.0    0.0\n",
      "DeltaM  0.0  0.0  0.0  0.0  0.0    0.0\n",
      "DeltaL  0.0  0.0  0.0  0.0  0.0    0.0\n",
      "DeltaD  0.0  0.0  0.0  0.0  0.0    0.0\n",
      "sigma   0.0  0.0  0.0  0.0  0.0    0.0\n"
     ]
    }
   ],
   "source": [
    "params = {'Z_i':2, 'Z_j':2}\n",
    "params = fill_initial_params(params)\n",
    "params.update({'M_H12':10, 'M_F12':20, 'L_F1':50, 'M_B':10})\n",
    "print_matrices(calc_initial_matrices(params))"
   ]
  },
  {
   "cell_type": "markdown",
   "id": "abaedcf8-a37b-4f86-a2ae-ca4a38a99de4",
   "metadata": {},
   "source": [
    "## fonctions de controle des parametres"
   ]
  },
  {
   "cell_type": "code",
   "execution_count": 11,
   "id": "48e2a952-266b-45f3-9a0f-2c7ce9a83dfa",
   "metadata": {},
   "outputs": [],
   "source": [
    "def check_initial_params(params):\n",
    "    assert params is not None "
   ]
  },
  {
   "cell_type": "markdown",
   "id": "f6119f7c-e8ed-4d30-8153-af940f6b99a6",
   "metadata": {},
   "source": [
    "## fonctions de calibration par blocs"
   ]
  },
  {
   "cell_type": "code",
   "execution_count": 59,
   "id": "9a84d5f2-fc2b-4fdd-9ee7-be6d2bab752c",
   "metadata": {},
   "outputs": [],
   "source": [
    "params = {\n",
    "    'g_ss':0.5,                     # taux de croissance\n",
    "    'N_E1':5,                       # nombre de entrepreneurs dans le secteur productif 1\n",
    "    'N_E2':6,                       # nombre de entrepreneurs dans le secteur productif 2\n",
    "    'N_E3':7,                       # nombre de entrepreneurs dans le secteur productif 3\n",
    "    'N_W1':10,                      # nombre de salaries dans le secteur productif 1\n",
    "    'N_W2':20,                      # nombre de salaries dans le secteur productif 2\n",
    "    'N_W3':30,                      # nombre de salaries dans le secteur productif 3\n",
    "    'N_WG':40,                      # nombre de salaries dans le secteur public\n",
    "    'N_U':40,                       # nombre de chomeurs dans le secteur public\n",
    "    'phi1':1.1,                     # productivite initial du secteur productif 1\n",
    "    'phi2':1.4,                     # productivite initial du secteur productif 2\n",
    "    'phi3':1.2,                     # productivite initial du secteur productif 3\n",
    "    'w1':2.5,                       # salaire initial du secteur productif 1\n",
    "    'w2':2,                         # salaire initial du secteur productif 2\n",
    "    'w3':1,                         # salaire initial du secteur productif 3\n",
    "    'w_G':2,                        # salaire public\n",
    "    'w_min':2,                      # salaire minimum\n",
    "    'tau': 0.2,                     # taux d'impots\n",
    "    'rho': 0.25,                    # politique de dividende\n",
    "    'm':0.25,                       # taux de marge brute\n",
    "    'alpha_b1':0.25,                # propension a consommer le bien 1 en zone urbaine\n",
    "    'alpha_a2':0.25,                # propension a consommer le bien 2 en zone rurale\n",
    "    'theta_W':0.75,                 # proportion desire de fonds de salaire\n",
    "    'theta_E':0.75,                 # proportion desire de capitaux bancaire (rentabilite)\n",
    "    'theta_Ubar':0.75,              # proportion reglementaire des allocations publics\n",
    "    'r_D': 0.2,                     # taux d'interet sur les depots bancaires\n",
    "    'r_L': 0.7,                     # taux d'interet sur les credits bancaires\n",
    "    'r_B': 0.5,                     # taux d'interet sur les bons du tresors\n",
    "    'r_A': 0.1,                     # taux d'interet sur les avances de la Banque Centrale\n",
    "}"
   ]
  },
  {
   "cell_type": "code",
   "execution_count": 77,
   "id": "2f633668-3189-44d9-bb4d-c0a6663ca803",
   "metadata": {},
   "outputs": [],
   "source": [
    "def calc_block_1(params):\n",
    "    p = params.copy()\n",
    "    p['zeta_1'] = 1 / (1 + p['g_ss'])\n",
    "    p['zeta_2'] = 1 - p['zeta_1']\n",
    "    \n",
    "    for s in sectors:\n",
    "        N = p[f'N_E{s}'] + p[f'N_W{s}']\n",
    "        p[f'y{s}'] = p[f'phi{s}'] * N\n",
    "        p[f'W_F{s}'] = p[f'w{s}'] * N\n",
    "        p[f'p{s}'] = (1 + p['m']) * p[f'W_F{s}'] / p[f'y{s}']\n",
    "        p[f'Q{s}'] = p[f'p{s}'] * p[f'y{s}']\n",
    "        \n",
    "        if s in [1, 3]:\n",
    "            p[f'L_F{s}'] = 0\n",
    "            p[f'D_F{s}'] = 0\n",
    "            p[f'T_F{s}'] = 0\n",
    "            p[f'pi_F{s}'] = p[f'Q{s}'] - p[f'W_F{s}']\n",
    "            p[f'pi_dF{s}'] = p['rho'] - p[f'pi_F{s}']\n",
    "            p[f'M_F{s}'] = (p[f'pi_F{s}'] - p[f'pi_dF{s}'])/ p['zeta_2']\n",
    "\n",
    "        else:\n",
    "            p['M_F2'] = 0\n",
    "            p['D_F2'] = p['theta_W'] * p['W_F2']\n",
    "            A = np.array([\n",
    "                [1, 0, 0, p['zeta_1'] * p['r_L']],\n",
    "                [p['tau'], -1, 0, 0],\n",
    "                [p['rho'], -p['rho'], -1, 0],\n",
    "                [1, -1, -1, p['zeta_2']]\n",
    "            ])\n",
    "            B = np.array([\n",
    "                p['Q2'] + p['zeta_1'] * p['r_D'] * p['D_F2'] - p['W_F2'],\n",
    "                0,\n",
    "                0,\n",
    "                p['zeta_2'] * p['D_F2']\n",
    "            ])\n",
    "            X = np.linalg.solve(A, B)\n",
    "            p['pi_F2'] = X[0]\n",
    "            p['T_F2'] = X[1]\n",
    "            p['pi_dF2'] = X[2]\n",
    "            p['L_F2'] = X[3]\n",
    "        \n",
    "        p[f'iota_LF{s}'] = p['zeta_1'] * p['r_L'] * p[f'L_F{s}']\n",
    "        p[f'iota_DF{s}'] = p['zeta_1'] * p['r_D'] * p[f'D_F{s}']\n",
    "        p[f'DeltaL_F{s}'] = p['zeta_2'] * p[f'L_F{s}']\n",
    "        p[f'DeltaD_F{s}'] = p['zeta_2'] * p[f'D_F{s}']\n",
    "        p[f'DeltaM_F{s}'] = p['zeta_2'] * p[f'M_F{s}'] \n",
    "    return p"
   ]
  },
  {
   "cell_type": "code",
   "execution_count": 78,
   "id": "74f52930-7afe-42b5-b1cb-0425e3009ef7",
   "metadata": {},
   "outputs": [
    {
     "name": "stdout",
     "output_type": "stream",
     "text": [
      "stocks\n",
      "          H    F    B    G   CB  sigma\n",
      "M      0.0  0.0  0.0  0.0  0.0    0.0\n",
      "A      0.0  0.0  0.0  0.0  0.0    0.0\n",
      "D      0.0  0.0  0.0  0.0  0.0    0.0\n",
      "B      0.0  0.0  0.0  0.0  0.0    0.0\n",
      "L      0.0  0.0  0.0  0.0  0.0    0.0\n",
      "V     -0.0 -0.0 -0.0 -0.0 -0.0    0.0\n",
      "sigma  0.0  0.0  0.0  0.0  0.0    0.0\n",
      "\n",
      "flows\n",
      "           H    F    B    G   CB  sigma\n",
      "C       0.0  0.0  0.0  0.0  0.0    0.0\n",
      "W       0.0  0.0  0.0  0.0  0.0    0.0\n",
      "Z       0.0  0.0  0.0  0.0  0.0    0.0\n",
      "T       0.0  0.0  0.0  0.0  0.0    0.0\n",
      "iota_A  0.0  0.0  0.0  0.0  0.0    0.0\n",
      "iota_B  0.0  0.0  0.0  0.0  0.0    0.0\n",
      "iota_L  0.0  0.0  0.0  0.0  0.0    0.0\n",
      "iota_D  0.0  0.0  0.0  0.0  0.0    0.0\n",
      "pi_d    0.0  0.0  0.0  0.0  0.0    0.0\n",
      "pi      0.0  0.0  0.0  0.0  0.0    0.0\n",
      "DeltaA  0.0  0.0  0.0  0.0  0.0    0.0\n",
      "DeltaB  0.0  0.0  0.0  0.0  0.0    0.0\n",
      "DeltaM  0.0  0.0  0.0  0.0  0.0    0.0\n",
      "DeltaL  0.0  0.0  0.0  0.0  0.0    0.0\n",
      "DeltaD  0.0  0.0  0.0  0.0  0.0    0.0\n",
      "sigma   0.0  0.0  0.0  0.0  0.0    0.0\n"
     ]
    }
   ],
   "source": [
    "p0 = fill_initial_params(params)\n",
    "check_initial_params(p0)\n",
    "print_matrices(calc_initial_matrices(p0))"
   ]
  },
  {
   "cell_type": "code",
   "execution_count": 79,
   "id": "ffb09a85-7095-42f6-b587-56657393435e",
   "metadata": {},
   "outputs": [
    {
     "name": "stdout",
     "output_type": "stream",
     "text": [
      "stocks\n",
      "          H       F    B    G   CB   sigma\n",
      "M      0.0  110.25  0.0  0.0  0.0  110.25\n",
      "A      0.0    0.00  0.0  0.0  0.0    0.00\n",
      "D      0.0   39.00  0.0  0.0  0.0   39.00\n",
      "B      0.0    0.00  0.0  0.0  0.0    0.00\n",
      "L      0.0  -39.00  0.0  0.0  0.0  -39.00\n",
      "V     -0.0 -110.25 -0.0 -0.0 -0.0 -110.25\n",
      "sigma  0.0    0.00  0.0  0.0  0.0    0.00\n",
      "\n",
      "flows\n",
      "           H       F    B    G   CB   sigma\n",
      "C       0.0  158.12  0.0  0.0  0.0  158.12\n",
      "W       0.0 -126.50  0.0  0.0  0.0 -126.50\n",
      "Z       0.0    0.00  0.0  0.0  0.0    0.00\n",
      "T       0.0   -0.00  0.0  0.0  0.0   -0.00\n",
      "iota_A  0.0    0.00  0.0  0.0  0.0    0.00\n",
      "iota_B  0.0    0.00  0.0  0.0  0.0    0.00\n",
      "iota_L  0.0  -18.20  0.0  0.0  0.0  -18.20\n",
      "iota_D  0.0    5.20  0.0  0.0  0.0    5.20\n",
      "pi_d    0.0   18.12  0.0  0.0  0.0   18.12\n",
      "pi      0.0    0.00  0.0  0.0  0.0    0.00\n",
      "DeltaA  0.0    0.00  0.0  0.0  0.0    0.00\n",
      "DeltaB  0.0    0.00  0.0  0.0  0.0    0.00\n",
      "DeltaM  0.0  -36.75  0.0  0.0  0.0  -36.75\n",
      "DeltaL  0.0   13.00  0.0  0.0  0.0   13.00\n",
      "DeltaD  0.0  -13.00  0.0  0.0  0.0  -13.00\n",
      "sigma   0.0   -0.00  0.0  0.0  0.0   -0.00\n"
     ]
    }
   ],
   "source": [
    "p1 = calc_block_1(p0)\n",
    "print_matrices(calc_initial_matrices(p1))\n"
   ]
  },
  {
   "cell_type": "code",
   "execution_count": 80,
   "id": "bb9fe0e3-37f2-4e73-8ba4-36f4d35a1050",
   "metadata": {},
   "outputs": [],
   "source": [
    "def calc_block_2(params):\n",
    "    p = params.copy()\n",
    "    for z in regions:\n",
    "        if z == 'a':\n",
    "            p['D_Ha'] = 0\n",
    "            p['T_Ha'] = 0\n",
    "            p['Z_Ha'] = 0\n",
    "            p['W_Ha'] = p['W_F1']\n",
    "            p['pi_dHa'] = p['pi_dF1']\n",
    "            p['Ya'] = p['W_Ha'] + p['pi_dHa']\n",
    "            p['Y_da'] = p['Ya']\n",
    "            p['Ca'] = (1 - p['alpha_b1']) * p['Q1'] + p['alpha_a2'] * p['Q2']\n",
    "            p['M_Ha'] = (p['Y_da'] - p['Ca']) / p['zeta_2']\n",
    "\n",
    "        else:\n",
    "            p['M_Hb'] = 0\n",
    "            p['Cb'] = p['alpha_b1'] * p['Q1'] + (1 - p['alpha_a2']) * p['Q2'] + p['Q3']\n",
    "            p['W_G'] = p['w_G'] * p['N_WG']\n",
    "            p['W_Hb'] = p['W_F2'] + p['W_F3'] + p['W_G']\n",
    "            p['Z_Hb'] = p['theta_Ubar'] * p['w_min'] * p['N_U']\n",
    "            p['pi_dB'] = p['rho'] * p['zeta_1'] * p['r_L'] * p['L_F2']\n",
    "            p['pi_dHb'] = p['pi_dF2'] + p['pi_dF3'] + p['pi_dB']\n",
    "            A = np.array([\n",
    "                [1, 0, 0, -p['zeta_1'] * p['r_D']],\n",
    "                [p['tau'], -1, 0, 0],\n",
    "                [1, -1, -1, 0],\n",
    "                [0, 0, 1, -p['zeta_2']]\n",
    "            ])\n",
    "            B = np.array([\n",
    "                p['W_Hb'] + p['pi_dHb'] + p['Z_Hb'],\n",
    "                p['tau'] * p['Z_Hb'],\n",
    "                0,\n",
    "                p['Cb']\n",
    "            ])\n",
    "            X = np.linalg.solve(A, B)\n",
    "            p['Yb'] = X[0]\n",
    "            p['T_Hb'] = X[1]\n",
    "            p['Y_db'] = X[2]\n",
    "            p['D_Hb'] = X[3]\n",
    "            \n",
    "        p[f'iota_DH{z}'] = p['zeta_1'] * p['r_D'] * p[f'D_H{z}']\n",
    "        p[f'DeltaD_H{z}'] = p['zeta_2'] * p[f'D_H{z}']\n",
    "        p[f'DeltaM_H{z}'] = p['zeta_2'] * p[f'M_H{z}']     \n",
    "    return p\n",
    "        "
   ]
  },
  {
   "cell_type": "code",
   "execution_count": 81,
   "id": "9994fd41-432e-4397-969c-deb328ed16e5",
   "metadata": {},
   "outputs": [
    {
     "name": "stdout",
     "output_type": "stream",
     "text": [
      "stocks\n",
      "             H       F    B    G   CB   sigma\n",
      "M      -69.09  110.25  0.0  0.0  0.0   41.16\n",
      "A        0.00    0.00  0.0  0.0  0.0    0.00\n",
      "D      374.65   39.00  0.0  0.0  0.0  413.65\n",
      "B        0.00    0.00  0.0  0.0  0.0    0.00\n",
      "L        0.00  -39.00  0.0  0.0  0.0  -39.00\n",
      "V     -305.56 -110.25 -0.0 -0.0 -0.0 -415.81\n",
      "sigma    0.00    0.00  0.0  0.0  0.0    0.00\n",
      "\n",
      "flows\n",
      "              H       F     B     G   CB   sigma\n",
      "C      -158.12  158.12  0.00   0.0  0.0    0.00\n",
      "W       206.50 -126.50  0.00 -80.0  0.0    0.00\n",
      "Z        60.00    0.00  0.00   0.0  0.0   60.00\n",
      "T       -42.90   -0.00  0.00   0.0  0.0  -42.90\n",
      "iota_A    0.00    0.00  0.00   0.0  0.0    0.00\n",
      "iota_B    0.00    0.00  0.00   0.0  0.0    0.00\n",
      "iota_L    0.00  -18.20  0.00   0.0  0.0  -18.20\n",
      "iota_D   49.95    5.20  0.00   0.0  0.0   55.15\n",
      "pi_d    -13.58   18.12 -4.55   0.0  0.0   -0.00\n",
      "pi        0.00    0.00  0.00   0.0  0.0    0.00\n",
      "DeltaA    0.00    0.00  0.00   0.0  0.0    0.00\n",
      "DeltaB    0.00    0.00  0.00   0.0  0.0    0.00\n",
      "DeltaM   23.03  -36.75  0.00   0.0  0.0  -13.72\n",
      "DeltaL    0.00   13.00  0.00   0.0  0.0   13.00\n",
      "DeltaD -124.88  -13.00  0.00   0.0  0.0 -137.88\n",
      "sigma    -0.00   -0.00 -4.55 -80.0  0.0  -84.55\n"
     ]
    }
   ],
   "source": [
    "p2 = calc_block_2(p1)\n",
    "print_matrices(calc_initial_matrices(p2))"
   ]
  },
  {
   "cell_type": "code",
   "execution_count": 82,
   "id": "2638c87e-d1f7-4c43-be3f-be7e6effe6f2",
   "metadata": {},
   "outputs": [],
   "source": [
    "def calc_block_3(params):\n",
    "    p = params.copy()\n",
    "    p['A_B'] = 0\n",
    "    p['D_B'] = p['D_Hb'] + p['D_F2']\n",
    "    p['L_B'] = p['L_F2']\n",
    "    A = np.array([\n",
    "        [1, 0, 0, -p['zeta_1'] * p['r_B'], 0],\n",
    "        [p['tau'], -1, 0, 0, 0],\n",
    "        [p['rho'], -p['rho'], 0, 0, 0],\n",
    "        [0, 0, 1, -1, -1],\n",
    "        [1, -1, 0, -p['zeta_2'], -p['zeta_2']]\n",
    "    ])\n",
    "    B = np.array([\n",
    "        p['zeta_1'] * p['r_L'] * p['L_B'] - p['zeta_1'] * p['r_D'] * p['D_B'],\n",
    "        0,\n",
    "        p['pi_dB'],\n",
    "        p['L_B'] - p['D_B'],\n",
    "        p['pi_dB'] + p['zeta_2'] * p['L_B'] - p['zeta_2'] * p['D_B']\n",
    "    ])\n",
    "    X = np.linalg.solve(A, B)\n",
    "    p['pi_B'] = X[0]\n",
    "    p['T_B'] = X[1]\n",
    "    p['E_B'] = X[2]\n",
    "    p['B_B'] = X[3]\n",
    "    p['M_B'] = X[4]\n",
    "    print(p['zeta_2'] * p['M_B'])\n",
    "    \n",
    "    p['iota_LB'] = p['zeta_1'] * p['r_L'] * p['L_B']\n",
    "    p['iota_DB'] = p['zeta_1'] * p['r_D'] * p['D_B']\n",
    "    p['iota_BB'] = p['zeta_1'] * p['r_B'] * p['B_B']\n",
    "    p['DeltaB_B'] = p['zeta_2'] * p['B_B']\n",
    "    p['DeltaL_B'] = p['zeta_2'] * p['L_B'] \n",
    "    p['DeltaD_B'] = p['zeta_2'] * p['D_B'] \n",
    "    p['DeltaM_B'] = p['zeta_2'] * p['M_B']\n",
    "    return p\n",
    "    "
   ]
  },
  {
   "cell_type": "code",
   "execution_count": 83,
   "id": "64ccf5df-b900-4dea-9c2e-f856f5a86448",
   "metadata": {},
   "outputs": [
    {
     "name": "stdout",
     "output_type": "stream",
     "text": [
      "78.83051470588235\n",
      "stocks\n",
      "             H       F       B    G   CB   sigma\n",
      "M      -69.09  110.25  236.49  0.0  0.0  277.65\n",
      "A        0.00    0.00    0.00  0.0  0.0    0.00\n",
      "D      374.65   39.00 -413.65  0.0  0.0    0.00\n",
      "B        0.00    0.00  179.11  0.0  0.0  179.11\n",
      "L        0.00  -39.00   39.00  0.0  0.0    0.00\n",
      "V     -305.56 -110.25  -40.95 -0.0 -0.0 -456.76\n",
      "sigma    0.00    0.00    0.00  0.0  0.0    0.00\n",
      "\n",
      "flows\n",
      "              H       F       B     G   CB  sigma\n",
      "C      -158.12  158.12    0.00   0.0  0.0   0.00\n",
      "W       206.50 -126.50    0.00 -80.0  0.0   0.00\n",
      "Z        60.00    0.00    0.00   0.0  0.0  60.00\n",
      "T       -42.90   -0.00   -4.55   0.0  0.0 -47.45\n",
      "iota_A    0.00    0.00    0.00   0.0  0.0   0.00\n",
      "iota_B    0.00    0.00   59.70   0.0  0.0  59.70\n",
      "iota_L    0.00  -18.20   18.20   0.0  0.0   0.00\n",
      "iota_D   49.95    5.20  -55.15   0.0  0.0   0.00\n",
      "pi_d    -13.58   18.12   -4.55   0.0  0.0  -0.00\n",
      "pi        0.00    0.00    0.00   0.0  0.0   0.00\n",
      "DeltaA    0.00    0.00    0.00   0.0  0.0   0.00\n",
      "DeltaB    0.00    0.00  -59.70   0.0  0.0 -59.70\n",
      "DeltaM   23.03  -36.75  -78.83   0.0  0.0 -92.55\n",
      "DeltaL    0.00   13.00  -13.00   0.0  0.0   0.00\n",
      "DeltaD -124.88  -13.00  137.88   0.0  0.0   0.00\n",
      "sigma    -0.00   -0.00    0.00 -80.0  0.0 -80.00\n"
     ]
    }
   ],
   "source": [
    "p3 = calc_block_3(p2)\n",
    "print_matrices(calc_initial_matrices(p3))"
   ]
  },
  {
   "cell_type": "code",
   "execution_count": 84,
   "id": "22fa9d5e-d3c3-425e-9221-13b6f0e0f574",
   "metadata": {},
   "outputs": [],
   "source": [
    "def calc_block_4(params):\n",
    "    p = params.copy()\n",
    "    p['Z_G'] = p['Z_Ha'] + p['Z_Hb']\n",
    "    p['A_CB'] = p['M_G'] = 0\n",
    "    p['T_G'] = p['T_Hb'] + p['T_F2'] + p['T_B']\n",
    "    p['M_F'] = p['M_F1'] + p['M_F2'] + p['M_F3']\n",
    "    p['M_H'] = p['M_Ha'] + p['M_Ha']\n",
    "    A = np.array([\n",
    "        [1, -1, 0, 0, 0],\n",
    "        [0, 0, 1, 0, -1],\n",
    "        [0, 0, 0, 1, -1],\n",
    "        [1, 0, 0, p['zeta_2'] - p['zeta_1'] * p['r_B'], 0],\n",
    "        [0, 1, 0, 0, -p['zeta_1'] * p['r_B']]\n",
    "    ])\n",
    "    B = np.array([\n",
    "        0,\n",
    "        0,\n",
    "        p['B_B'],\n",
    "        p['W_G'] + p['Z_G'] - p['T_G'],\n",
    "        0\n",
    "    ])\n",
    "    X = np.linalg.solve(A, B)\n",
    "    p['pi_G'] = X[0]\n",
    "    p['pi_CB'] = X[1]\n",
    "    p['M_CB'] = X[2]\n",
    "    p['B_G'] = X[3]\n",
    "    p['B_CB'] = X[4]\n",
    "    \n",
    "    p['iota_BG'] = p['zeta_1'] * p['r_B'] * p['B_G']\n",
    "    p['iota_BCB'] = p['zeta_1'] * p['r_B'] * p['B_CB']\n",
    "    p['DeltaB_G'] = p['zeta_2'] * p['B_G']\n",
    "    p['DeltaB_CB'] = p['zeta_2'] * p['B_CB']\n",
    "    p['DeltaM_G'] = p['zeta_2'] * p['M_G']\n",
    "    p['DeltaM_CB'] = p['zeta_2'] * p['M_CB']\n",
    "    return p"
   ]
  },
  {
   "cell_type": "code",
   "execution_count": 85,
   "id": "a47f8f90-e1d5-404a-b52b-5295bfffed68",
   "metadata": {},
   "outputs": [
    {
     "name": "stdout",
     "output_type": "stream",
     "text": [
      "stocks\n",
      "             H      F       B       G      CB  sigma\n",
      "M     -207.28  220.5  236.49    0.00 -277.65 -27.94\n",
      "A        0.00    0.0    0.00    0.00    0.00   0.00\n",
      "D      374.65   39.0 -413.65    0.00    0.00   0.00\n",
      "B        0.00    0.0  179.11 -456.76  277.65   0.00\n",
      "L        0.00  -39.0   39.00    0.00    0.00   0.00\n",
      "V     -167.37 -220.5  -40.95  456.76   -0.00  27.94\n",
      "sigma    0.00    0.0    0.00    0.00    0.00   0.00\n",
      "\n",
      "flows\n",
      "              H       F       B       G     CB  sigma\n",
      "C      -158.12  158.12    0.00    0.00   0.00    0.0\n",
      "W       206.50 -126.50    0.00  -80.00   0.00    0.0\n",
      "Z        60.00    0.00    0.00  -60.00   0.00    0.0\n",
      "T       -42.90   -0.00   -4.55   47.45   0.00    0.0\n",
      "iota_A    0.00    0.00    0.00    0.00   0.00    0.0\n",
      "iota_B    0.00    0.00   59.70 -152.25  92.55    0.0\n",
      "iota_L    0.00  -18.20   18.20    0.00   0.00    0.0\n",
      "iota_D   49.95    5.20  -55.15    0.00   0.00    0.0\n",
      "pi_d    -13.58   18.12   -4.55    0.00   0.00   -0.0\n",
      "pi        0.00    0.00    0.00   92.55 -92.55    0.0\n",
      "DeltaA    0.00    0.00    0.00    0.00   0.00    0.0\n",
      "DeltaB    0.00    0.00  -59.70  152.25 -92.55    0.0\n",
      "DeltaM   23.03  -36.75  -78.83   -0.00  92.55   -0.0\n",
      "DeltaL    0.00   13.00  -13.00    0.00   0.00    0.0\n",
      "DeltaD -124.88  -13.00  137.88    0.00   0.00    0.0\n",
      "sigma    -0.00   -0.00    0.00    0.00   0.00   -0.0\n"
     ]
    }
   ],
   "source": [
    "p4 = calc_block_4(p3)\n",
    "print_matrices(calc_initial_matrices(p4))"
   ]
  },
  {
   "cell_type": "markdown",
   "id": "c367d5d4-cc2f-4b99-9891-84c6bf8c3fa8",
   "metadata": {},
   "source": [
    "## fonctions de distribution des stocks et flux"
   ]
  },
  {
   "cell_type": "code",
   "execution_count": 86,
   "id": "cbd3979f-6440-42ba-9d28-30e282ac6aff",
   "metadata": {},
   "outputs": [
    {
     "data": {
      "text/plain": [
       "AgentList (10 objects)"
      ]
     },
     "execution_count": 86,
     "metadata": {},
     "output_type": "execute_result"
    }
   ],
   "source": [
    "model = ap.Model()\n",
    "households = ap.AgentList(model, 10)\n",
    "households"
   ]
  },
  {
   "cell_type": "code",
   "execution_count": 87,
   "id": "74fe5962-89ba-4757-b25b-3a9e654ad2f8",
   "metadata": {},
   "outputs": [
    {
     "data": {
      "text/plain": [
       "(2, 7, 2)"
      ]
     },
     "execution_count": 87,
     "metadata": {},
     "output_type": "execute_result"
    }
   ],
   "source": [
    "owners = households.random(2)\n",
    "workers = households.random(7)\n",
    "households.s_U = 1\n",
    "households.s_W = 0\n",
    "households.s_E = 0\n",
    "owners.s_E = 1\n",
    "owners.s_U = 0\n",
    "workers.s_W = 1\n",
    "workers.s_U = 0\n",
    "sum(households.s_U), sum(households.s_W), sum(households.s_E)"
   ]
  },
  {
   "cell_type": "code",
   "execution_count": 88,
   "id": "7a13e849-88eb-42c4-912f-c3820d8adb9a",
   "metadata": {},
   "outputs": [
    {
     "data": {
      "text/plain": [
       "25"
      ]
     },
     "execution_count": 88,
     "metadata": {},
     "output_type": "execute_result"
    }
   ],
   "source": [
    "households.x = 0\n",
    "subworkers = workers.to_list().random(5)\n",
    "subworkers.x = 5\n",
    "sum(households.x)"
   ]
  },
  {
   "cell_type": "code",
   "execution_count": 89,
   "id": "8c17f712-4d5c-4a5a-ba95-e6402412f828",
   "metadata": {},
   "outputs": [
    {
     "data": {
      "text/plain": [
       "18"
      ]
     },
     "execution_count": 89,
     "metadata": {},
     "output_type": "execute_result"
    }
   ],
   "source": [
    "agg_var(p4, 'N_E')"
   ]
  },
  {
   "cell_type": "code",
   "execution_count": 132,
   "id": "3adcc1c1-a382-47fd-bfec-18797071c23a",
   "metadata": {},
   "outputs": [],
   "source": [
    "def create_households(m):\n",
    "    p = m.p\n",
    "    bankowners = ap.AgentList(m, 1)\n",
    "    bankowners.s_EB = 1\n",
    "    bankowners.s_E = 1\n",
    "    m.households = bankowners\n",
    "    \n",
    "    firmowners1 = ap.AgentList(m, p['N_E1'])\n",
    "    firmowners1.s_EB = 0\n",
    "    firmowners1.s_E = 1\n",
    "    m.households += firmowners1\n",
    "    \n",
    "    firmowners2 = ap.AgentList(m, p['N_E2'])\n",
    "    firmowners2.s_EB = 0\n",
    "    firmowners2.s_E = 1\n",
    "    m.households += firmowners2\n",
    "    \n",
    "    firmowners3 = ap.AgentList(m, p['N_E3'])\n",
    "    firmowners3.s_EB = 0\n",
    "    firmowners3.s_E = 1\n",
    "    m.households += firmowners3\n",
    "    \n",
    "    # firmowners = firmowners1 + firmowners2 + firmowners3\n",
    "    # owners = bankowners + firmowners\n",
    "    # print(len(firmowners), len(owners))\n",
    "    # print(len(owners.select(owners.s_EB==0).select(owners.s_E==1)))\n",
    "    # print(list(owners.select(owners.s_EB==0).select(owners.s_E==1)))\n",
    "    \n",
    "    privateworkers1 = ap.AgentList(m, p['N_W1'])\n",
    "    privateworkers1.s_EB = 0\n",
    "    privateworkers1.s_E = 0\n",
    "    \n",
    "    privateworkers2 = ap.AgentList(m, p['N_W2'])\n",
    "    privateworkers2.s_EB = 0\n",
    "    privateworkers2.s_E = 0\n",
    "    \n",
    "    privateworkers3 = ap.AgentList(m, p['N_W3'])\n",
    "    privateworkers3.s_EB = 0\n",
    "    privateworkers3.s_E = 0\n",
    "    \n",
    "    # privateworkers = privateworkers1 + privateworkers2 + privateworkers3 \n",
    "    \n",
    "    publicworkers = ap.AgentList(m, p['N_WG'])\n",
    "    publicworkers.s_EB = 0\n",
    "    publicworkers.s_E = 0\n",
    "    # workers = privateworkers + publicworkers\n",
    "    # print(list(privateworkers1))\n",
    "    \n",
    "    unemployed = ap.AgentList(m, p['N_U'])\n",
    "    unemployed.s_EB = 0\n",
    "    unemployed.s_E = 0\n",
    "    \n",
    "    # m.households = owners + workers + unemployed\n",
    "    # print(len(households.select(households.s_EB==0).select(households.s_E==1)))\n",
    "    # print(list(households.select(households.s_EB==0).select(households.s_E==1)))\n",
    "    return m"
   ]
  },
  {
   "cell_type": "code",
   "execution_count": 133,
   "id": "4567f33d-d756-4e43-81fc-b5430a2c26d4",
   "metadata": {},
   "outputs": [
    {
     "name": "stdout",
     "output_type": "stream",
     "text": [
      "Num households 159 19\n",
      "Num bank owners 1 1\n",
      "Num firm owners 18 18\n"
     ]
    }
   ],
   "source": [
    "model = ap.Model(p4)\n",
    "model = create_households(model)\n",
    "households = model.households\n",
    "print('Num households', agg_var(p4, 'N') + 1, len(households))\n",
    "print('Num bank owners', 1, len(households.select(households.s_EB == 1)))\n",
    "print('Num firm owners', agg_var(p4, 'N_E'), len(households.select(households.s_EB==0).select(households.s_E==1)))"
   ]
  },
  {
   "cell_type": "code",
   "execution_count": 110,
   "id": "08c0ea7c-397a-4f0f-a20f-df5e189938fc",
   "metadata": {},
   "outputs": [
    {
     "data": {
      "text/plain": [
       "AgentList (7 objects)"
      ]
     },
     "execution_count": 110,
     "metadata": {},
     "output_type": "execute_result"
    }
   ],
   "source": [
    "a1 = ap.AgentList(model, 2)\n",
    "a2 = ap.AgentList(model, 5)\n",
    "a1 + a2"
   ]
  },
  {
   "cell_type": "code",
   "execution_count": null,
   "id": "350b92c2-2f34-4eca-8a76-2571f93ae8ad",
   "metadata": {},
   "outputs": [],
   "source": []
  },
  {
   "cell_type": "code",
   "execution_count": null,
   "id": "ef6a44eb-84ca-4e44-aa0f-bda73310dbb1",
   "metadata": {},
   "outputs": [],
   "source": []
  }
 ],
 "metadata": {
  "kernelspec": {
   "display_name": "Python 3 (ipykernel)",
   "language": "python",
   "name": "python3"
  },
  "language_info": {
   "codemirror_mode": {
    "name": "ipython",
    "version": 3
   },
   "file_extension": ".py",
   "mimetype": "text/x-python",
   "name": "python",
   "nbconvert_exporter": "python",
   "pygments_lexer": "ipython3",
   "version": "3.12.11"
  }
 },
 "nbformat": 4,
 "nbformat_minor": 5
}
