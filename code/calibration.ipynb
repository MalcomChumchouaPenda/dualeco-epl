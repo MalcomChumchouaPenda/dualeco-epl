{
 "cells": [
  {
   "cell_type": "markdown",
   "id": "ab0b7b48-57b9-4a2f-b146-aa4826b24423",
   "metadata": {},
   "source": [
    "# Calibration procedure (six-steps procedures)"
   ]
  },
  {
   "cell_type": "code",
   "execution_count": 2,
   "id": "9ab38e50-d054-45ec-bb32-d8b505c74390",
   "metadata": {},
   "outputs": [],
   "source": [
    "import pandas as pd\n",
    "import numpy as np\n",
    "import agentpy as ap\n",
    "\n",
    "from model.model import DualEcoModel\n",
    "from utils.analysis import create_matrices_from_params\n",
    "from utils.analysis import create_matrices_from_output"
   ]
  },
  {
   "cell_type": "markdown",
   "id": "5f781e7d-bb7d-49a6-91df-353d937fffe5",
   "metadata": {},
   "source": [
    "## initialisation des matrices"
   ]
  },
  {
   "cell_type": "code",
   "execution_count": 8,
   "id": "6759916d-8d38-41fd-b6d1-bf12ae89a92f",
   "metadata": {},
   "outputs": [
    {
     "data": {
      "text/plain": [
       "(         H    F    B    G   CB  sigma\n",
       " M      0.0  0.0  0.0  0.0  0.0    0.0\n",
       " A      0.0  0.0  0.0  0.0  0.0    0.0\n",
       " D      0.0  0.0  0.0  0.0  0.0    0.0\n",
       " B      0.0  0.0  0.0  0.0  0.0    0.0\n",
       " L      0.0  0.0  0.0  0.0  0.0    0.0\n",
       " E      0.0  0.0  0.0  0.0  0.0    0.0\n",
       " V     -0.0 -0.0 -0.0 -0.0 -0.0    0.0\n",
       " sigma  0.0  0.0  0.0  0.0  0.0    0.0,\n",
       "           H    F    B    G   CB  sigma\n",
       " C       0.0  0.0  0.0  0.0  0.0    0.0\n",
       " W       0.0  0.0  0.0  0.0  0.0    0.0\n",
       " Z       0.0  0.0  0.0  0.0  0.0    0.0\n",
       " T       0.0  0.0  0.0  0.0  0.0    0.0\n",
       " iota_A  0.0  0.0  0.0  0.0  0.0    0.0\n",
       " iota_B  0.0  0.0  0.0  0.0  0.0    0.0\n",
       " iota_L  0.0  0.0  0.0  0.0  0.0    0.0\n",
       " iota_D  0.0  0.0  0.0  0.0  0.0    0.0\n",
       " Pi_d    0.0  0.0  0.0  0.0  0.0    0.0\n",
       " Pi      0.0  0.0  0.0  0.0  0.0    0.0\n",
       " DeltaA  0.0  0.0  0.0  0.0  0.0    0.0\n",
       " DeltaB  0.0  0.0  0.0  0.0  0.0    0.0\n",
       " DeltaM  0.0  0.0  0.0  0.0  0.0    0.0\n",
       " DeltaL  0.0  0.0  0.0  0.0  0.0    0.0\n",
       " DeltaD  0.0  0.0  0.0  0.0  0.0    0.0\n",
       " DeltaE  0.0  0.0  0.0  0.0  0.0    0.0\n",
       " L_def   0.0  0.0  0.0  0.0  0.0    0.0\n",
       " sigma   0.0  0.0  0.0  0.0  0.0    0.0)"
      ]
     },
     "execution_count": 8,
     "metadata": {},
     "output_type": "execute_result"
    }
   ],
   "source": [
    "params_1 = {}\n",
    "model_1 = DualEcoModel(params_1)\n",
    "model_1.init_params()\n",
    "create_matrices_from_params(model_1.p)"
   ]
  },
  {
   "cell_type": "markdown",
   "id": "f6119f7c-e8ed-4d30-8153-af940f6b99a6",
   "metadata": {},
   "source": [
    "## calcul des stocks, flux et prix initiaux"
   ]
  },
  {
   "cell_type": "code",
   "execution_count": 15,
   "id": "9a84d5f2-fc2b-4fdd-9ee7-be6d2bab752c",
   "metadata": {},
   "outputs": [],
   "source": [
    "params_2 = {\n",
    "    'g':0.5,                     # taux de croissance\n",
    "    'N_E1':5,                       # nombre de entrepreneurs dans le secteur productif 1\n",
    "    'N_E2':6,                       # nombre de entrepreneurs dans le secteur productif 2\n",
    "    'N_W1':10,                      # nombre de salaries dans le secteur productif 1\n",
    "    'N_W2':20,                      # nombre de salaries dans le secteur productif 2\n",
    "    'N_WG':40,                      # nombre de salaries dans le secteur public\n",
    "    'N_U':40,                       # nombre de chomeurs dans le secteur public\n",
    "    'phi1':1.1,                     # productivite initial du secteur productif 1\n",
    "    'phi2':1.4,                     # productivite initial du secteur productif 2\n",
    "    'w1':2.5,                       # salaire initial du secteur productif 1\n",
    "    'w2':2,                         # salaire initial du secteur productif 2\n",
    "    'w_G':2,                        # salaire public\n",
    "    'w_min':2,                      # salaire minimum\n",
    "    'tau': 0.2,                     # taux d'impots\n",
    "    'rho': 0.25,                    # politique de dividende\n",
    "    'm':0.25,                       # taux de marge brute\n",
    "    'theta_W':0.75,                 # proportion desire de fonds de salaire\n",
    "    'theta_E':0.75,                 # proportion desire de capitaux bancaire (rentabilite)\n",
    "    'theta_M':0.25,                 # proportion desire de liquidite\n",
    "    'kappa_Z':0.75,              # proportion reglementaire des allocations publics\n",
    "    'r_D': 0.2,                     # taux d'interet sur les depots bancaires\n",
    "    'r_L': 0.7,                     # taux d'interet sur les credits bancaires\n",
    "    'r_B': 0.5,                     # taux d'interet sur les bons du tresors\n",
    "    'r_A': 0.1,                     # taux d'interet sur les avances de la Banque Centrale\n",
    "}"
   ]
  },
  {
   "cell_type": "code",
   "execution_count": 16,
   "id": "74f52930-7afe-42b5-b1cb-0425e3009ef7",
   "metadata": {},
   "outputs": [
    {
     "name": "stdout",
     "output_type": "stream",
     "text": [
      "0.5681818181818178\n"
     ]
    },
    {
     "data": {
      "text/plain": [
       "(            H       F      B       G      CB  sigma\n",
       " M      240.52  154.50   1.70    0.00 -319.47  77.25\n",
       " A        0.00    0.00   0.00    0.00    0.00   0.00\n",
       " D      -21.31   28.12  -6.82    0.00    0.00   0.00\n",
       " B        0.00    0.00  -2.56 -316.92  319.47   0.00\n",
       " L        0.00  -28.12  28.12    0.00    0.00   0.00\n",
       " E        0.00  -77.25 -20.45    0.00    0.00 -97.70\n",
       " V     -219.21  -77.25  -0.00  316.92   -0.00  20.45\n",
       " sigma    0.00    0.00   0.00    0.00    0.00   0.00,\n",
       "              H       F      B       G      CB  sigma\n",
       " C      -111.88  111.88   0.00    0.00    0.00    0.0\n",
       " W       169.50  -89.50   0.00  -80.00    0.00    0.0\n",
       " Z        60.00    0.00   0.00  -60.00    0.00    0.0\n",
       " T       -31.24   -0.00  -2.27   33.51    0.00    0.0\n",
       " iota_A    0.00    0.00   0.00    0.00    0.00    0.0\n",
       " iota_B    0.00    0.00  -0.85 -105.64  106.49   -0.0\n",
       " iota_L    0.00  -13.12  13.12    0.00    0.00    0.0\n",
       " iota_D   -2.84    3.75  -0.91    0.00    0.00   -0.0\n",
       " Pi_d    -10.48   12.75  -2.27    0.00    0.00    0.0\n",
       " Pi        0.00    0.00   0.00  106.49 -106.49    0.0\n",
       " DeltaA    0.00    0.00   0.00    0.00    0.00    0.0\n",
       " DeltaB    0.00    0.00   0.85  105.64 -106.49    0.0\n",
       " DeltaM  -80.17  -25.75  -0.57   -0.00  106.49    0.0\n",
       " DeltaL    0.00    9.38  -9.38    0.00    0.00    0.0\n",
       " DeltaD    7.10   -9.38   2.27    0.00    0.00   -0.0\n",
       " DeltaE    0.00    0.00   0.00    0.00    0.00    0.0\n",
       " L_def     0.00    0.00   0.00    0.00    0.00    0.0\n",
       " sigma    -0.00    0.00  -0.00    0.00   -0.00   -0.0)"
      ]
     },
     "execution_count": 16,
     "metadata": {},
     "output_type": "execute_result"
    }
   ],
   "source": [
    "model_2 = DualEcoModel(params_2)\n",
    "model_2.init_params()\n",
    "model_2.calc_block_1()\n",
    "model_2.calc_block_2()\n",
    "model_2.calc_block_3()\n",
    "model_2.calc_block_4()\n",
    "create_matrices_from_params(model_2.p, digits=2)"
   ]
  },
  {
   "cell_type": "markdown",
   "id": "c367d5d4-cc2f-4b99-9891-84c6bf8c3fa8",
   "metadata": {},
   "source": [
    "## creation des agents et distribution des stocks et flux"
   ]
  },
  {
   "cell_type": "code",
   "execution_count": null,
   "id": "cbd3979f-6440-42ba-9d28-30e282ac6aff",
   "metadata": {},
   "outputs": [],
   "source": [
    "model = ap.Model()\n",
    "households = ap.AgentList(model, 10)\n",
    "households"
   ]
  },
  {
   "cell_type": "code",
   "execution_count": null,
   "id": "74fe5962-89ba-4757-b25b-3a9e654ad2f8",
   "metadata": {},
   "outputs": [],
   "source": [
    "owners = households.random(2)\n",
    "workers = households.random(7)\n",
    "households.s_U = 1\n",
    "households.s_W = 0\n",
    "households.s_E = 0\n",
    "owners.s_E = 1\n",
    "owners.s_U = 0\n",
    "workers.s_W = 1\n",
    "workers.s_U = 0\n",
    "sum(households.s_U), sum(households.s_W), sum(households.s_E)"
   ]
  },
  {
   "cell_type": "code",
   "execution_count": null,
   "id": "7a13e849-88eb-42c4-912f-c3820d8adb9a",
   "metadata": {},
   "outputs": [],
   "source": [
    "households.x = 0\n",
    "subworkers = workers.to_list().random(5)\n",
    "subworkers.x = 5\n",
    "sum(households.x)"
   ]
  },
  {
   "cell_type": "code",
   "execution_count": null,
   "id": "8c17f712-4d5c-4a5a-ba95-e6402412f828",
   "metadata": {},
   "outputs": [],
   "source": [
    "sum_params(model2.p, 'N_E')"
   ]
  },
  {
   "cell_type": "code",
   "execution_count": null,
   "id": "3adcc1c1-a382-47fd-bfec-18797071c23a",
   "metadata": {},
   "outputs": [],
   "source": [
    "def create_households(m):\n",
    "    p = m.p\n",
    "    bank_owners = ap.AgentList(m, 1)\n",
    "    bank_owners.s_EB = 1\n",
    "    bank_owners.s_E = 1\n",
    "    m.households = bank_owners\n",
    "    \n",
    "    firm_owners1 = ap.AgentList(m, p['N_E1'])\n",
    "    firm_owners1.s_EB = 0\n",
    "    firm_owners1.s_E = 1\n",
    "    m.households += firm_owners1\n",
    "    \n",
    "    firm_owners2 = ap.AgentList(m, p['N_E2'])\n",
    "    firm_owners2.s_EB = 0\n",
    "    firm_owners2.s_E = 1\n",
    "    m.households += firm_owners2\n",
    "    \n",
    "    firm_owners3 = ap.AgentList(m, p['N_E3'])\n",
    "    firm_owners3.s_EB = 0\n",
    "    firm_owners3.s_E = 1\n",
    "    m.households += firm_owners3\n",
    "    \n",
    "    # firm_owners = firm_owners1 + firm_owners2 + firm_owners3\n",
    "    # owners = bank_owners + firm_owners\n",
    "    # print(len(firm_owners), len(owners))\n",
    "    # print(len(owners.select(owners.s_EB==0).select(owners.s_E==1)))\n",
    "    # print(list(owners.select(owners.s_EB==0).select(owners.s_E==1)))\n",
    "    \n",
    "    private_workers1 = ap.AgentList(m, p['N_W1'])\n",
    "    private_workers1.s_EB = 0\n",
    "    private_workers1.s_E = 0\n",
    "    m.households += private_workers1\n",
    "    \n",
    "    private_workers2 = ap.AgentList(m, p['N_W2'])\n",
    "    private_workers2.s_EB = 0\n",
    "    private_workers2.s_E = 0\n",
    "    m.households += private_workers2\n",
    "    \n",
    "    private_workers3 = ap.AgentList(m, p['N_W3'])\n",
    "    private_workers3.s_EB = 0\n",
    "    private_workers3.s_E = 0\n",
    "    m.households += private_workers3\n",
    "    \n",
    "    # private_workers = private_workers1 + private_workers2 + private_workers3 \n",
    "    \n",
    "    public_workers = ap.AgentList(m, p['N_WG'])\n",
    "    public_workers.s_EB = 0\n",
    "    public_workers.s_E = 0\n",
    "    m.households += public_workers\n",
    "    # workers = private_workers + public_workers\n",
    "    # print(list(private_workers1))\n",
    "    \n",
    "    unemployed = ap.AgentList(m, p['N_U'])\n",
    "    unemployed.s_EB = 0\n",
    "    unemployed.s_E = 0\n",
    "    m.households += unemployed\n",
    "    \n",
    "    # m.households = owners + workers + unemployed\n",
    "    # print(len(households.select(households.s_EB==0).select(households.s_E==1)))\n",
    "    # print(list(households.select(households.s_EB==0).select(households.s_E==1)))\n",
    "    return m"
   ]
  },
  {
   "cell_type": "code",
   "execution_count": null,
   "id": "4567f33d-d756-4e43-81fc-b5430a2c26d4",
   "metadata": {},
   "outputs": [],
   "source": [
    "model2 = create_households(model2)\n",
    "households = model2.households\n",
    "p2 = model2.p\n",
    "print('Num households', sum_params(p2, 'N') + 1, len(households))\n",
    "print('Num bank owners', 1, len(households.select(households.s_EB == 1)))\n",
    "print('Num firm owners', sum_params(p2, 'N_E'), len(households.select(households.s_EB==0).select(households.s_E==1)))\n",
    "print('Num firm owners', sum_params(p2, 'N_E'), len(households.select(households.s_EB==0).select(households.s_E==1)))"
   ]
  },
  {
   "cell_type": "code",
   "execution_count": null,
   "id": "08c0ea7c-397a-4f0f-a20f-df5e189938fc",
   "metadata": {},
   "outputs": [],
   "source": [
    "a1 = ap.AgentList(model, 2)\n",
    "a2 = ap.AgentList(model, 5)\n",
    "a1 + a2"
   ]
  },
  {
   "cell_type": "code",
   "execution_count": null,
   "id": "350b92c2-2f34-4eca-8a76-2571f93ae8ad",
   "metadata": {},
   "outputs": [],
   "source": []
  },
  {
   "cell_type": "code",
   "execution_count": null,
   "id": "ef6a44eb-84ca-4e44-aa0f-bda73310dbb1",
   "metadata": {},
   "outputs": [],
   "source": []
  }
 ],
 "metadata": {
  "kernelspec": {
   "display_name": "Python 3 (ipykernel)",
   "language": "python",
   "name": "python3"
  },
  "language_info": {
   "codemirror_mode": {
    "name": "ipython",
    "version": 3
   },
   "file_extension": ".py",
   "mimetype": "text/x-python",
   "name": "python",
   "nbconvert_exporter": "python",
   "pygments_lexer": "ipython3",
   "version": "3.12.11"
  }
 },
 "nbformat": 4,
 "nbformat_minor": 5
}
