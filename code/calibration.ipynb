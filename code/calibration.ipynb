{
 "cells": [
  {
   "cell_type": "markdown",
   "id": "ab0b7b48-57b9-4a2f-b146-aa4826b24423",
   "metadata": {},
   "source": [
    "# Calibration procedure (six-steps procedures)"
   ]
  },
  {
   "cell_type": "code",
   "execution_count": 22,
   "id": "9ab38e50-d054-45ec-bb32-d8b505c74390",
   "metadata": {},
   "outputs": [],
   "source": [
    "import pandas as pd\n",
    "import numpy as np\n",
    "import agentpy as ap\n",
    "\n",
    "from model.model import DualEcoModel\n",
    "from utils.analysis import print_matrices, create_matrices\n",
    "from utils.analysis import sum_params, calc_initial_matrices"
   ]
  },
  {
   "cell_type": "markdown",
   "id": "5f781e7d-bb7d-49a6-91df-353d937fffe5",
   "metadata": {},
   "source": [
    "## initialisation des matrices"
   ]
  },
  {
   "cell_type": "code",
   "execution_count": 23,
   "id": "a06d54e0-abe1-4be9-a410-b30a11a19c81",
   "metadata": {},
   "outputs": [
    {
     "name": "stdout",
     "output_type": "stream",
     "text": [
      "stocks\n",
      "      H    F    B    G   CB\n",
      "M  0.0  0.0  0.0  0.0  0.0\n",
      "A  0.0  0.0  0.0  0.0  0.0\n",
      "D  0.0  0.0  0.0  0.0  0.0\n",
      "B  0.0  0.0  0.0  0.0  0.0\n",
      "L  0.0  0.0  0.0  0.0  0.0\n",
      "\n",
      "flows\n",
      "           H    F    B    G   CB\n",
      "C       0.0  0.0  0.0  0.0  0.0\n",
      "W       0.0  0.0  0.0  0.0  0.0\n",
      "Z       0.0  0.0  0.0  0.0  0.0\n",
      "T       0.0  0.0  0.0  0.0  0.0\n",
      "iota_A  0.0  0.0  0.0  0.0  0.0\n",
      "iota_B  0.0  0.0  0.0  0.0  0.0\n",
      "iota_L  0.0  0.0  0.0  0.0  0.0\n",
      "iota_D  0.0  0.0  0.0  0.0  0.0\n",
      "pi_d    0.0  0.0  0.0  0.0  0.0\n",
      "pi      0.0  0.0  0.0  0.0  0.0\n",
      "DeltaA  0.0  0.0  0.0  0.0  0.0\n",
      "DeltaB  0.0  0.0  0.0  0.0  0.0\n",
      "DeltaM  0.0  0.0  0.0  0.0  0.0\n",
      "DeltaL  0.0  0.0  0.0  0.0  0.0\n",
      "DeltaD  0.0  0.0  0.0  0.0  0.0\n"
     ]
    }
   ],
   "source": [
    "print_matrices(create_matrices())"
   ]
  },
  {
   "cell_type": "code",
   "execution_count": 24,
   "id": "6759916d-8d38-41fd-b6d1-bf12ae89a92f",
   "metadata": {},
   "outputs": [
    {
     "data": {
      "text/plain": [
       "{'M_Ha': 0,\n",
       " 'D_Ha': 0,\n",
       " 'Ca': 0,\n",
       " 'W_Ha': 0,\n",
       " 'Z_Ha': 0,\n",
       " 'T_Ha': 0,\n",
       " 'iota_DHa': 0,\n",
       " 'pi_dHa': 0,\n",
       " 'DeltaM_Ha': 0,\n",
       " 'DeltaD_Ha': 0,\n",
       " 'M_Hb': 0,\n",
       " 'D_Hb': 0,\n",
       " 'Cb': 0,\n",
       " 'W_Hb': 0,\n",
       " 'Z_Hb': 0,\n",
       " 'T_Hb': 0,\n",
       " 'iota_DHb': 0,\n",
       " 'pi_dHb': 0,\n",
       " 'DeltaM_Hb': 0,\n",
       " 'DeltaD_Hb': 0,\n",
       " 'M_F1': 0,\n",
       " 'D_F1': 0,\n",
       " 'L_F1': 0,\n",
       " 'Q1': 0,\n",
       " 'W_F1': 0,\n",
       " 'T_F1': 0,\n",
       " 'iota_LF1': 0,\n",
       " 'iota_DF1': 0,\n",
       " 'pi_dF1': 0,\n",
       " 'DeltaM_F1': 0,\n",
       " 'DeltaL_F1': 0,\n",
       " 'DeltaD_F1': 0,\n",
       " 'M_F2': 0,\n",
       " 'D_F2': 0,\n",
       " 'L_F2': 0,\n",
       " 'Q2': 0,\n",
       " 'W_F2': 0,\n",
       " 'T_F2': 0,\n",
       " 'iota_LF2': 0,\n",
       " 'iota_DF2': 0,\n",
       " 'pi_dF2': 0,\n",
       " 'DeltaM_F2': 0,\n",
       " 'DeltaL_F2': 0,\n",
       " 'DeltaD_F2': 0,\n",
       " 'M_F3': 0,\n",
       " 'D_F3': 0,\n",
       " 'L_F3': 0,\n",
       " 'Q3': 0,\n",
       " 'W_F3': 0,\n",
       " 'T_F3': 0,\n",
       " 'iota_LF3': 0,\n",
       " 'iota_DF3': 0,\n",
       " 'pi_dF3': 0,\n",
       " 'DeltaM_F3': 0,\n",
       " 'DeltaL_F3': 0,\n",
       " 'DeltaD_F3': 0,\n",
       " 'M_B': 0,\n",
       " 'A_B': 0,\n",
       " 'D_B': 0,\n",
       " 'B_B': 0,\n",
       " 'L_B': 0,\n",
       " 'T_B': 0,\n",
       " 'iota_AB': 0,\n",
       " 'iota_BB': 0,\n",
       " 'iota_LB': 0,\n",
       " 'iota_DB': 0,\n",
       " 'pi_dB': 0,\n",
       " 'DeltaA_B': 0,\n",
       " 'DeltaB_B': 0,\n",
       " 'DeltaM_B': 0,\n",
       " 'DeltaL_B': 0,\n",
       " 'DeltaD_B': 0,\n",
       " 'M_G': 0,\n",
       " 'B_G': 0,\n",
       " 'W_G': 0,\n",
       " 'Z_G': 0,\n",
       " 'T_G': 0,\n",
       " 'iota_BG': 0,\n",
       " 'pi_G': 0,\n",
       " 'DeltaB_G': 0,\n",
       " 'DeltaM_G': 0,\n",
       " 'M_CB': 0,\n",
       " 'A_CB': 0,\n",
       " 'B_CB': 0,\n",
       " 'iota_ACB': 0,\n",
       " 'iota_BCB': 0,\n",
       " 'pi_CB': 0,\n",
       " 'DeltaA_CB': 0,\n",
       " 'DeltaB_CB': 0,\n",
       " 'DeltaM_CB': 0}"
      ]
     },
     "execution_count": 24,
     "metadata": {},
     "output_type": "execute_result"
    }
   ],
   "source": [
    "params1 = {}\n",
    "model1 = DualEcoModel(params1)\n",
    "model1.init_params()\n",
    "model1.p"
   ]
  },
  {
   "cell_type": "code",
   "execution_count": 25,
   "id": "87ef3c76-9e5b-4b1b-b85d-24b2173b6ec8",
   "metadata": {},
   "outputs": [
    {
     "name": "stdout",
     "output_type": "stream",
     "text": [
      "stocks\n",
      "          H    F    B    G   CB  sigma\n",
      "M      0.0  0.0  0.0  0.0  0.0    0.0\n",
      "A      0.0  0.0  0.0  0.0  0.0    0.0\n",
      "D      0.0  0.0  0.0  0.0  0.0    0.0\n",
      "B      0.0  0.0  0.0  0.0  0.0    0.0\n",
      "L      0.0  0.0  0.0  0.0  0.0    0.0\n",
      "V     -0.0 -0.0 -0.0 -0.0 -0.0    0.0\n",
      "sigma  0.0  0.0  0.0  0.0  0.0    0.0\n",
      "\n",
      "flows\n",
      "           H    F    B    G   CB  sigma\n",
      "C       0.0  0.0  0.0  0.0  0.0    0.0\n",
      "W       0.0  0.0  0.0  0.0  0.0    0.0\n",
      "Z       0.0  0.0  0.0  0.0  0.0    0.0\n",
      "T       0.0  0.0  0.0  0.0  0.0    0.0\n",
      "iota_A  0.0  0.0  0.0  0.0  0.0    0.0\n",
      "iota_B  0.0  0.0  0.0  0.0  0.0    0.0\n",
      "iota_L  0.0  0.0  0.0  0.0  0.0    0.0\n",
      "iota_D  0.0  0.0  0.0  0.0  0.0    0.0\n",
      "pi_d    0.0  0.0  0.0  0.0  0.0    0.0\n",
      "pi      0.0  0.0  0.0  0.0  0.0    0.0\n",
      "DeltaA  0.0  0.0  0.0  0.0  0.0    0.0\n",
      "DeltaB  0.0  0.0  0.0  0.0  0.0    0.0\n",
      "DeltaM  0.0  0.0  0.0  0.0  0.0    0.0\n",
      "DeltaL  0.0  0.0  0.0  0.0  0.0    0.0\n",
      "DeltaD  0.0  0.0  0.0  0.0  0.0    0.0\n",
      "sigma   0.0  0.0  0.0  0.0  0.0    0.0\n"
     ]
    }
   ],
   "source": [
    "print_matrices(calc_initial_matrices(model1.p))"
   ]
  },
  {
   "cell_type": "markdown",
   "id": "f6119f7c-e8ed-4d30-8153-af940f6b99a6",
   "metadata": {},
   "source": [
    "## calcul des stocks, flux et prix initiaux"
   ]
  },
  {
   "cell_type": "code",
   "execution_count": 26,
   "id": "9a84d5f2-fc2b-4fdd-9ee7-be6d2bab752c",
   "metadata": {},
   "outputs": [],
   "source": [
    "params2 = {\n",
    "    'g_ss':0.5,                     # taux de croissance\n",
    "    'N_E1':5,                       # nombre de entrepreneurs dans le secteur productif 1\n",
    "    'N_E2':6,                       # nombre de entrepreneurs dans le secteur productif 2\n",
    "    'N_E3':7,                       # nombre de entrepreneurs dans le secteur productif 3\n",
    "    'N_W1':10,                      # nombre de salaries dans le secteur productif 1\n",
    "    'N_W2':20,                      # nombre de salaries dans le secteur productif 2\n",
    "    'N_W3':30,                      # nombre de salaries dans le secteur productif 3\n",
    "    'N_WG':40,                      # nombre de salaries dans le secteur public\n",
    "    'N_U':40,                       # nombre de chomeurs dans le secteur public\n",
    "    'phi1':1.1,                     # productivite initial du secteur productif 1\n",
    "    'phi2':1.4,                     # productivite initial du secteur productif 2\n",
    "    'phi3':1.2,                     # productivite initial du secteur productif 3\n",
    "    'w1':2.5,                       # salaire initial du secteur productif 1\n",
    "    'w2':2,                         # salaire initial du secteur productif 2\n",
    "    'w3':1,                         # salaire initial du secteur productif 3\n",
    "    'w_G':2,                        # salaire public\n",
    "    'w_min':2,                      # salaire minimum\n",
    "    'tau': 0.2,                     # taux d'impots\n",
    "    'rho': 0.25,                    # politique de dividende\n",
    "    'm':0.25,                       # taux de marge brute\n",
    "    'alpha_b1':0.25,                # propension a consommer le bien 1 en zone urbaine\n",
    "    'alpha_a2':0.25,                # propension a consommer le bien 2 en zone rurale\n",
    "    'theta_W':0.75,                 # proportion desire de fonds de salaire\n",
    "    'theta_E':0.75,                 # proportion desire de capitaux bancaire (rentabilite)\n",
    "    'theta_Ubar':0.75,              # proportion reglementaire des allocations publics\n",
    "    'r_D': 0.2,                     # taux d'interet sur les depots bancaires\n",
    "    'r_L': 0.7,                     # taux d'interet sur les credits bancaires\n",
    "    'r_B': 0.5,                     # taux d'interet sur les bons du tresors\n",
    "    'r_A': 0.1,                     # taux d'interet sur les avances de la Banque Centrale\n",
    "}"
   ]
  },
  {
   "cell_type": "code",
   "execution_count": 27,
   "id": "74f52930-7afe-42b5-b1cb-0425e3009ef7",
   "metadata": {},
   "outputs": [
    {
     "name": "stdout",
     "output_type": "stream",
     "text": [
      "stocks\n",
      "          H       F    B    G   CB   sigma\n",
      "M      0.0  110.25  0.0  0.0  0.0  110.25\n",
      "A      0.0    0.00  0.0  0.0  0.0    0.00\n",
      "D      0.0   39.00  0.0  0.0  0.0   39.00\n",
      "B      0.0    0.00  0.0  0.0  0.0    0.00\n",
      "L      0.0  -39.00  0.0  0.0  0.0  -39.00\n",
      "V     -0.0 -110.25 -0.0 -0.0 -0.0 -110.25\n",
      "sigma  0.0    0.00  0.0  0.0  0.0    0.00\n",
      "\n",
      "flows\n",
      "           H       F    B    G   CB   sigma\n",
      "C       0.0  158.12  0.0  0.0  0.0  158.12\n",
      "W       0.0 -126.50  0.0  0.0  0.0 -126.50\n",
      "Z       0.0    0.00  0.0  0.0  0.0    0.00\n",
      "T       0.0   -0.00  0.0  0.0  0.0   -0.00\n",
      "iota_A  0.0    0.00  0.0  0.0  0.0    0.00\n",
      "iota_B  0.0    0.00  0.0  0.0  0.0    0.00\n",
      "iota_L  0.0  -18.20  0.0  0.0  0.0  -18.20\n",
      "iota_D  0.0    5.20  0.0  0.0  0.0    5.20\n",
      "pi_d    0.0   18.12  0.0  0.0  0.0   18.12\n",
      "pi      0.0    0.00  0.0  0.0  0.0    0.00\n",
      "DeltaA  0.0    0.00  0.0  0.0  0.0    0.00\n",
      "DeltaB  0.0    0.00  0.0  0.0  0.0    0.00\n",
      "DeltaM  0.0  -36.75  0.0  0.0  0.0  -36.75\n",
      "DeltaL  0.0   13.00  0.0  0.0  0.0   13.00\n",
      "DeltaD  0.0  -13.00  0.0  0.0  0.0  -13.00\n",
      "sigma   0.0   -0.00  0.0  0.0  0.0   -0.00\n"
     ]
    }
   ],
   "source": [
    "model2 = DualEcoModel(params2)\n",
    "model2.init_params()\n",
    "model2.calc_block_1()\n",
    "print_matrices(calc_initial_matrices(model2.p))"
   ]
  },
  {
   "cell_type": "code",
   "execution_count": 28,
   "id": "ffb09a85-7095-42f6-b587-56657393435e",
   "metadata": {},
   "outputs": [
    {
     "name": "stdout",
     "output_type": "stream",
     "text": [
      "stocks\n",
      "             H       F    B    G   CB   sigma\n",
      "M      -69.09  110.25  0.0  0.0  0.0   41.16\n",
      "A        0.00    0.00  0.0  0.0  0.0    0.00\n",
      "D      374.65   39.00  0.0  0.0  0.0  413.65\n",
      "B        0.00    0.00  0.0  0.0  0.0    0.00\n",
      "L        0.00  -39.00  0.0  0.0  0.0  -39.00\n",
      "V     -305.56 -110.25 -0.0 -0.0 -0.0 -415.81\n",
      "sigma    0.00    0.00  0.0  0.0  0.0    0.00\n",
      "\n",
      "flows\n",
      "              H       F     B     G   CB   sigma\n",
      "C      -158.12  158.12  0.00   0.0  0.0    0.00\n",
      "W       206.50 -126.50  0.00 -80.0  0.0    0.00\n",
      "Z        60.00    0.00  0.00   0.0  0.0   60.00\n",
      "T       -42.90   -0.00  0.00   0.0  0.0  -42.90\n",
      "iota_A    0.00    0.00  0.00   0.0  0.0    0.00\n",
      "iota_B    0.00    0.00  0.00   0.0  0.0    0.00\n",
      "iota_L    0.00  -18.20  0.00   0.0  0.0  -18.20\n",
      "iota_D   49.95    5.20  0.00   0.0  0.0   55.15\n",
      "pi_d    -13.58   18.12 -4.55   0.0  0.0   -0.00\n",
      "pi        0.00    0.00  0.00   0.0  0.0    0.00\n",
      "DeltaA    0.00    0.00  0.00   0.0  0.0    0.00\n",
      "DeltaB    0.00    0.00  0.00   0.0  0.0    0.00\n",
      "DeltaM   23.03  -36.75  0.00   0.0  0.0  -13.72\n",
      "DeltaL    0.00   13.00  0.00   0.0  0.0   13.00\n",
      "DeltaD -124.88  -13.00  0.00   0.0  0.0 -137.88\n",
      "sigma    -0.00   -0.00 -4.55 -80.0  0.0  -84.55\n"
     ]
    }
   ],
   "source": [
    "model2.calc_block_2()\n",
    "print_matrices(calc_initial_matrices(model2.p))"
   ]
  },
  {
   "cell_type": "code",
   "execution_count": 29,
   "id": "9994fd41-432e-4397-969c-deb328ed16e5",
   "metadata": {},
   "outputs": [
    {
     "name": "stdout",
     "output_type": "stream",
     "text": [
      "78.83051470588235\n",
      "stocks\n",
      "             H       F       B    G   CB   sigma\n",
      "M      -69.09  110.25  236.49  0.0  0.0  277.65\n",
      "A        0.00    0.00    0.00  0.0  0.0    0.00\n",
      "D      374.65   39.00 -413.65  0.0  0.0    0.00\n",
      "B        0.00    0.00  179.11  0.0  0.0  179.11\n",
      "L        0.00  -39.00   39.00  0.0  0.0    0.00\n",
      "V     -305.56 -110.25  -40.95 -0.0 -0.0 -456.76\n",
      "sigma    0.00    0.00    0.00  0.0  0.0    0.00\n",
      "\n",
      "flows\n",
      "              H       F       B     G   CB  sigma\n",
      "C      -158.12  158.12    0.00   0.0  0.0   0.00\n",
      "W       206.50 -126.50    0.00 -80.0  0.0   0.00\n",
      "Z        60.00    0.00    0.00   0.0  0.0  60.00\n",
      "T       -42.90   -0.00   -4.55   0.0  0.0 -47.45\n",
      "iota_A    0.00    0.00    0.00   0.0  0.0   0.00\n",
      "iota_B    0.00    0.00   59.70   0.0  0.0  59.70\n",
      "iota_L    0.00  -18.20   18.20   0.0  0.0   0.00\n",
      "iota_D   49.95    5.20  -55.15   0.0  0.0   0.00\n",
      "pi_d    -13.58   18.12   -4.55   0.0  0.0  -0.00\n",
      "pi        0.00    0.00    0.00   0.0  0.0   0.00\n",
      "DeltaA    0.00    0.00    0.00   0.0  0.0   0.00\n",
      "DeltaB    0.00    0.00  -59.70   0.0  0.0 -59.70\n",
      "DeltaM   23.03  -36.75  -78.83   0.0  0.0 -92.55\n",
      "DeltaL    0.00   13.00  -13.00   0.0  0.0   0.00\n",
      "DeltaD -124.88  -13.00  137.88   0.0  0.0   0.00\n",
      "sigma    -0.00   -0.00    0.00 -80.0  0.0 -80.00\n"
     ]
    }
   ],
   "source": [
    "model2.calc_block_3()\n",
    "print_matrices(calc_initial_matrices(model2.p))"
   ]
  },
  {
   "cell_type": "code",
   "execution_count": 30,
   "id": "64ccf5df-b900-4dea-9c2e-f856f5a86448",
   "metadata": {},
   "outputs": [
    {
     "name": "stdout",
     "output_type": "stream",
     "text": [
      "stocks\n",
      "             H      F       B       G      CB  sigma\n",
      "M     -207.28  220.5  236.49    0.00 -277.65 -27.94\n",
      "A        0.00    0.0    0.00    0.00    0.00   0.00\n",
      "D      374.65   39.0 -413.65    0.00    0.00   0.00\n",
      "B        0.00    0.0  179.11 -456.76  277.65   0.00\n",
      "L        0.00  -39.0   39.00    0.00    0.00   0.00\n",
      "V     -167.37 -220.5  -40.95  456.76   -0.00  27.94\n",
      "sigma    0.00    0.0    0.00    0.00    0.00   0.00\n",
      "\n",
      "flows\n",
      "              H       F       B       G     CB  sigma\n",
      "C      -158.12  158.12    0.00    0.00   0.00    0.0\n",
      "W       206.50 -126.50    0.00  -80.00   0.00    0.0\n",
      "Z        60.00    0.00    0.00  -60.00   0.00    0.0\n",
      "T       -42.90   -0.00   -4.55   47.45   0.00    0.0\n",
      "iota_A    0.00    0.00    0.00    0.00   0.00    0.0\n",
      "iota_B    0.00    0.00   59.70 -152.25  92.55    0.0\n",
      "iota_L    0.00  -18.20   18.20    0.00   0.00    0.0\n",
      "iota_D   49.95    5.20  -55.15    0.00   0.00    0.0\n",
      "pi_d    -13.58   18.12   -4.55    0.00   0.00   -0.0\n",
      "pi        0.00    0.00    0.00   92.55 -92.55    0.0\n",
      "DeltaA    0.00    0.00    0.00    0.00   0.00    0.0\n",
      "DeltaB    0.00    0.00  -59.70  152.25 -92.55    0.0\n",
      "DeltaM   23.03  -36.75  -78.83   -0.00  92.55   -0.0\n",
      "DeltaL    0.00   13.00  -13.00    0.00   0.00    0.0\n",
      "DeltaD -124.88  -13.00  137.88    0.00   0.00    0.0\n",
      "sigma    -0.00   -0.00    0.00    0.00   0.00   -0.0\n"
     ]
    }
   ],
   "source": [
    "model2.calc_block_4()\n",
    "print_matrices(calc_initial_matrices(model2.p))"
   ]
  },
  {
   "cell_type": "markdown",
   "id": "c367d5d4-cc2f-4b99-9891-84c6bf8c3fa8",
   "metadata": {},
   "source": [
    "## creation des agents et distribution des stocks et flux"
   ]
  },
  {
   "cell_type": "code",
   "execution_count": 31,
   "id": "cbd3979f-6440-42ba-9d28-30e282ac6aff",
   "metadata": {},
   "outputs": [
    {
     "data": {
      "text/plain": [
       "AgentList (10 objects)"
      ]
     },
     "execution_count": 31,
     "metadata": {},
     "output_type": "execute_result"
    }
   ],
   "source": [
    "model = ap.Model()\n",
    "households = ap.AgentList(model, 10)\n",
    "households"
   ]
  },
  {
   "cell_type": "code",
   "execution_count": 32,
   "id": "74fe5962-89ba-4757-b25b-3a9e654ad2f8",
   "metadata": {},
   "outputs": [
    {
     "data": {
      "text/plain": [
       "(2, 7, 2)"
      ]
     },
     "execution_count": 32,
     "metadata": {},
     "output_type": "execute_result"
    }
   ],
   "source": [
    "owners = households.random(2)\n",
    "workers = households.random(7)\n",
    "households.s_U = 1\n",
    "households.s_W = 0\n",
    "households.s_E = 0\n",
    "owners.s_E = 1\n",
    "owners.s_U = 0\n",
    "workers.s_W = 1\n",
    "workers.s_U = 0\n",
    "sum(households.s_U), sum(households.s_W), sum(households.s_E)"
   ]
  },
  {
   "cell_type": "code",
   "execution_count": 33,
   "id": "7a13e849-88eb-42c4-912f-c3820d8adb9a",
   "metadata": {},
   "outputs": [
    {
     "data": {
      "text/plain": [
       "25"
      ]
     },
     "execution_count": 33,
     "metadata": {},
     "output_type": "execute_result"
    }
   ],
   "source": [
    "households.x = 0\n",
    "subworkers = workers.to_list().random(5)\n",
    "subworkers.x = 5\n",
    "sum(households.x)"
   ]
  },
  {
   "cell_type": "code",
   "execution_count": 35,
   "id": "8c17f712-4d5c-4a5a-ba95-e6402412f828",
   "metadata": {},
   "outputs": [
    {
     "data": {
      "text/plain": [
       "18"
      ]
     },
     "execution_count": 35,
     "metadata": {},
     "output_type": "execute_result"
    }
   ],
   "source": [
    "sum_params(model2.p, 'N_E')"
   ]
  },
  {
   "cell_type": "code",
   "execution_count": null,
   "id": "3adcc1c1-a382-47fd-bfec-18797071c23a",
   "metadata": {},
   "outputs": [],
   "source": [
    "def create_households(m):\n",
    "    p = m.p\n",
    "    bank_owners = ap.AgentList(m, 1)\n",
    "    bank_owners.s_EB = 1\n",
    "    bank_owners.s_E = 1\n",
    "    m.households = bank_owners\n",
    "    \n",
    "    firm_owners1 = ap.AgentList(m, p['N_E1'])\n",
    "    firm_owners1.s_EB = 0\n",
    "    firm_owners1.s_E = 1\n",
    "    m.households += firm_owners1\n",
    "    \n",
    "    firm_owners2 = ap.AgentList(m, p['N_E2'])\n",
    "    firm_owners2.s_EB = 0\n",
    "    firm_owners2.s_E = 1\n",
    "    m.households += firm_owners2\n",
    "    \n",
    "    firm_owners3 = ap.AgentList(m, p['N_E3'])\n",
    "    firm_owners3.s_EB = 0\n",
    "    firm_owners3.s_E = 1\n",
    "    m.households += firm_owners3\n",
    "    \n",
    "    # firm_owners = firm_owners1 + firm_owners2 + firm_owners3\n",
    "    # owners = bank_owners + firm_owners\n",
    "    # print(len(firm_owners), len(owners))\n",
    "    # print(len(owners.select(owners.s_EB==0).select(owners.s_E==1)))\n",
    "    # print(list(owners.select(owners.s_EB==0).select(owners.s_E==1)))\n",
    "    \n",
    "    private_workers1 = ap.AgentList(m, p['N_W1'])\n",
    "    private_workers1.s_EB = 0\n",
    "    private_workers1.s_E = 0\n",
    "    m.households += private_workers1\n",
    "    \n",
    "    private_workers2 = ap.AgentList(m, p['N_W2'])\n",
    "    private_workers2.s_EB = 0\n",
    "    private_workers2.s_E = 0\n",
    "    m.households += private_workers2\n",
    "    \n",
    "    private_workers3 = ap.AgentList(m, p['N_W3'])\n",
    "    private_workers3.s_EB = 0\n",
    "    private_workers3.s_E = 0\n",
    "    m.households += private_workers3\n",
    "    \n",
    "    # private_workers = private_workers1 + private_workers2 + private_workers3 \n",
    "    \n",
    "    public_workers = ap.AgentList(m, p['N_WG'])\n",
    "    public_workers.s_EB = 0\n",
    "    public_workers.s_E = 0\n",
    "    m.households += public_workers\n",
    "    # workers = private_workers + public_workers\n",
    "    # print(list(private_workers1))\n",
    "    \n",
    "    unemployed = ap.AgentList(m, p['N_U'])\n",
    "    unemployed.s_EB = 0\n",
    "    unemployed.s_E = 0\n",
    "    m.households += unemployed\n",
    "    \n",
    "    # m.households = owners + workers + unemployed\n",
    "    # print(len(households.select(households.s_EB==0).select(households.s_E==1)))\n",
    "    # print(list(households.select(households.s_EB==0).select(households.s_E==1)))\n",
    "    return m"
   ]
  },
  {
   "cell_type": "code",
   "execution_count": 43,
   "id": "4567f33d-d756-4e43-81fc-b5430a2c26d4",
   "metadata": {},
   "outputs": [
    {
     "name": "stdout",
     "output_type": "stream",
     "text": [
      "Num households 159 159\n",
      "Num bank owners 1 1\n",
      "Num firm owners 18 19\n"
     ]
    }
   ],
   "source": [
    "model2 = create_households(model2)\n",
    "households = model2.households\n",
    "p2 = model2.p\n",
    "print('Num households', sum_params(p2, 'N') + 1, len(households))\n",
    "print('Num bank owners', 1, len(households.select(households.s_EB == 1)))\n",
    "print('Num firm owners', sum_params(p2, 'N_E'), len(households.select(households.s_EB==0).select(households.s_E==1)))\n",
    "print('Num firm owners', sum_params(p2, 'N_E'), len(households.select(households.s_EB==0).select(households.s_E==1)))"
   ]
  },
  {
   "cell_type": "code",
   "execution_count": null,
   "id": "08c0ea7c-397a-4f0f-a20f-df5e189938fc",
   "metadata": {},
   "outputs": [],
   "source": [
    "a1 = ap.AgentList(model, 2)\n",
    "a2 = ap.AgentList(model, 5)\n",
    "a1 + a2"
   ]
  },
  {
   "cell_type": "code",
   "execution_count": null,
   "id": "350b92c2-2f34-4eca-8a76-2571f93ae8ad",
   "metadata": {},
   "outputs": [],
   "source": []
  },
  {
   "cell_type": "code",
   "execution_count": null,
   "id": "ef6a44eb-84ca-4e44-aa0f-bda73310dbb1",
   "metadata": {},
   "outputs": [],
   "source": []
  }
 ],
 "metadata": {
  "kernelspec": {
   "display_name": "Python 3 (ipykernel)",
   "language": "python",
   "name": "python3"
  },
  "language_info": {
   "codemirror_mode": {
    "name": "ipython",
    "version": 3
   },
   "file_extension": ".py",
   "mimetype": "text/x-python",
   "name": "python",
   "nbconvert_exporter": "python",
   "pygments_lexer": "ipython3",
   "version": "3.12.11"
  }
 },
 "nbformat": 4,
 "nbformat_minor": 5
}
